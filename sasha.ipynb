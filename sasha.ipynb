{
 "cells": [
  {
   "cell_type": "code",
   "execution_count": 261,
   "metadata": {},
   "outputs": [],
   "source": [
    "#import packages\n",
    "import sys\n",
    "import re\n",
    "\n",
    "#open yml file = inputvariabele, om te lezen\n",
    "ymlfile=open('morphrulesFeb26.yml','r',newline='',encoding='utf-8')\n",
    "\n",
    "#schrijf resultaat weg naar nieuwe file\n",
    "#open schrijfbestand = inputvariabele, om weg te schrijven\n",
    "outputfile=open('output.yml','w',encoding='utf-8')\n"
   ]
  },
  {
   "cell_type": "code",
   "execution_count": 262,
   "metadata": {
    "scrolled": true
   },
   "outputs": [
    {
     "name": "stdout",
     "output_type": "stream",
     "text": [
      "- id: \"mova-m_1_i\" #сусід\n",
      "- id: \"mova-m_1одн._i\" #жупан, туз\n",
      "- id: \"mova-m_1рр(мн.)_i\" #хозар\n",
      "- id: \"mova-m_1к_i\" #дід\n",
      "- id: \"mova-m_1[дм]_i\" #змієлов\n",
      "- id: \"mova-m_2_i\" #власник\n",
      "- id: \"mova-m_2к_i\" #бурлак\n",
      "- id: \"mova-m_2кк_i\" #жених\n",
      "- id: \"mova-m_10_i\" #піскар\n",
      "- id: \"mova-m_13мн._i\" #півень\n",
      "- id: \"mova-m_15_i\" #змій\n",
      "- id: \"mova-m_15мм_i\" #герой\n",
      "- id: \"mova-m_17_i\" #громило\n",
      "- id: \"mova-m_30_i\" #вовчище\n",
      "- id: \"mova-m_31_i\" #вчений\n",
      "- id: \"mova-m_34_i\" #циган\n",
      "- id: \"mova-m_35_i\" #боярин\n",
      "- id: \"mova-m_36_i\" #хазяїн\n",
      "- id: \"mova-m_37_i\" #Господь\n",
      "- id: \"mova-m_38_i\" #кінь\n",
      "- id: \"mova-m_38мм_i\" #гість\n",
      "- id: \"mova-m_39_i\" #чоловік\n",
      "- id: \"mova-m_40_i\" #тато\n"
     ]
    }
   ],
   "source": [
    "iblok=False\n",
    "#overloop elke lijn in tekst\n",
    "for line in ymlfile:\n",
    "    i=re.search('- id: (\"[^\"]+?_i\").+',line)\n",
    "    if iblok==True:\n",
    "        #i=re.search('- \\[.*\"(.*)\".*\"(.*)\".*\"(.*)\".*\\]',line)\n",
    "        i=re.search('- \\[.*\\]',line)\n",
    "        if i:\n",
    "            #print (line)\n",
    "            lineupdate=re.sub('(\\[.*?\\\"[\\S]*?)([\\s]*?\\\".*\\])', r'\\1_i\\2',line)\n",
    "            outputfile.write(lineupdate)\n",
    "        elif line == '\\n':\n",
    "            iblok=False\n",
    "            outputfile.write(line) \n",
    "        else:\n",
    "            outputfile.write(line)\n",
    "    elif iblok==False:\n",
    "        if i:\n",
    "            print (i[0])\n",
    "            iblok=True\n",
    "            outputfile.write(line)\n",
    "        else:\n",
    "            outputfile.write(line)\n"
   ]
  },
  {
   "cell_type": "code",
   "execution_count": 263,
   "metadata": {},
   "outputs": [],
   "source": [
    "ymlfile.close()            \n",
    "outputfile.close()"
   ]
  },
  {
   "cell_type": "code",
   "execution_count": 260,
   "metadata": {},
   "outputs": [
    {
     "data": {
      "text/plain": [
       "'      - [ \"noun_nom_neut_sing_i \" , \"\", \"\" ]'"
      ]
     },
     "execution_count": 260,
     "metadata": {},
     "output_type": "execute_result"
    }
   ],
   "source": [
    "re.sub('(\\[.*?\\\"[\\S]*?)([\\s]*?\\\".*\\])', r'\\1_i\\2', '      - [ \"noun_nom_neut_sing \" , \"\", \"\" ]')"
   ]
  },
  {
   "cell_type": "code",
   "execution_count": null,
   "metadata": {},
   "outputs": [],
   "source": []
  },
  {
   "cell_type": "code",
   "execution_count": null,
   "metadata": {},
   "outputs": [],
   "source": []
  }
 ],
 "metadata": {
  "kernelspec": {
   "display_name": "Python 3",
   "language": "python",
   "name": "python3"
  },
  "language_info": {
   "codemirror_mode": {
    "name": "ipython",
    "version": 3
   },
   "file_extension": ".py",
   "mimetype": "text/x-python",
   "name": "python",
   "nbconvert_exporter": "python",
   "pygments_lexer": "ipython3",
   "version": "3.7.4"
  }
 },
 "nbformat": 4,
 "nbformat_minor": 2
}
